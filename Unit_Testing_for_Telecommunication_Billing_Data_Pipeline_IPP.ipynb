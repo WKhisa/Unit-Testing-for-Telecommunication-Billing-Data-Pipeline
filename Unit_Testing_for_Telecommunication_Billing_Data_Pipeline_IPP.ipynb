{
  "nbformat": 4,
  "nbformat_minor": 0,
  "metadata": {
    "colab": {
      "provenance": [],
      "include_colab_link": true
    },
    "kernelspec": {
      "name": "python3",
      "display_name": "Python 3"
    },
    "language_info": {
      "name": "python"
    }
  },
  "cells": [
    {
      "cell_type": "markdown",
      "metadata": {
        "id": "view-in-github",
        "colab_type": "text"
      },
      "source": [
        "<a href=\"https://colab.research.google.com/github/WKhisa/Unit-Testing-for-Telecommunication-Billing-Data-Pipeline/blob/main/Unit_Testing_for_Telecommunication_Billing_Data_Pipeline_IPP.ipynb\" target=\"_parent\"><img src=\"https://colab.research.google.com/assets/colab-badge.svg\" alt=\"Open In Colab\"/></a>"
      ]
    },
    {
      "cell_type": "markdown",
      "source": [
        "Below is the starting code that includes the data pipeline functions. You should focus on writing unit tests for these functions using the unittest framework.\n",
        "\n"
      ],
      "metadata": {
        "id": "ADXy0k8Lg-jk"
      }
    },
    {
      "cell_type": "code",
      "execution_count": null,
      "metadata": {
        "id": "pFvW6RJ8g3Qd"
      },
      "outputs": [],
      "source": [
        "import pandas as pd\n",
        "import unittest\n",
        "\n",
        "file_path = 'https://raw.githubusercontent.com/WKhisa/Unit-Testing-for-Telecommunication-Billing-Data-Pipeline/main/billing_data.csv'\n",
        "\n",
        "def data_extraction(file_path):\n",
        "    data = pd.read_csv(file_path)\n",
        "    return data\n",
        "\n",
        "def data_transformation(data):\n",
        "    data = data.drop_duplicates()\n",
        "    data['billing_amount'] = data['billing_amount'].str.replace('$', '').astype(float)\n",
        "    data['total_charges'] = data['billing_amount'] + data['tax_amount']\n",
        "    return data\n",
        "\n",
        "def data_loading(data, output_file):\n",
        "    data.to_csv(output_file, index=False)\n",
        "\n",
        "class TestDataPipeline(unittest.TestCase):\n",
        "    def test_data_extraction(self):\n",
        "        data_file = fetch_data_from_url(DATA_URL)\n",
        "        extracted_data = data_extraction(data_file)\n",
        "        self.assertIsInstance(extracted_data, pd.DataFrame)\n",
        "        self.assertEqual(len(extracted_data), 5)\n",
        "\n",
        "    def test_data_transformation(self):\n",
        "        # Create a sample DataFrame for testing\n",
        "        data = pd.DataFrame({'billing_amount': ['$100', '$200', '$300', '$400', '$500'],\n",
        "                             'tax_amount': [10, 20, 30, 40, 50]})\n",
        "        # Test if data_transformation transforms data as expected\n",
        "        transformed_data = data_transformation(data)\n",
        "\n",
        "        # Check if 'billing_amount' has been transformed correctly\n",
        "        self.assertAlmostEqual(transformed_data['billing_amount'].iloc[0], 100.0)\n",
        "        self.assertAlmostEqual(transformed_data['billing_amount'].iloc[4], 500.0)\n",
        "\n",
        "        # Check if 'tax_amount' has been transformed correctly\n",
        "        self.assertAlmostEqual(transformed_data['tax_amount'].iloc[0], 10.0)\n",
        "        self.assertAlmostEqual(transformed_data['tax_amount'].iloc[4], 50.0)\n",
        "\n",
        "        # Check if 'total_charges' has been calculated correctly\n",
        "        self.assertAlmostEqual(transformed_data['total_charges'].iloc[0], 110.0)\n",
        "        self.assertAlmostEqual(transformed_data['total_charges'].iloc[4], 550.0)\n",
        "\n",
        "\n",
        "    def test_data_loading(self):\n",
        "        # Create a sample DataFrame for testing\n",
        "        data = pd.DataFrame({'billing_amount': ['$100', '$200', '$300', '$400', '$500'],\n",
        "                             'tax_amount': [10, 20, 30, 40, 50]})\n",
        "\n",
        "        # Create a temporary output file for testing\n",
        "        output_file = 'test_output.csv'\n",
        "\n",
        "        # Test if data_loading saves data to a CSV file\n",
        "        data_loading(data, output_file)\n",
        "\n",
        "        # Check if the output file exists\n",
        "        self.assertTrue(os.path.exists(output_file))\n",
        "\n",
        "        # Clean up: Remove the temporary output file\n",
        "        os.remove(output_file)\n",
        "\n",
        "if __name__ == '__main__':\n",
        "    unittest.main()"
      ]
    }
  ]
}