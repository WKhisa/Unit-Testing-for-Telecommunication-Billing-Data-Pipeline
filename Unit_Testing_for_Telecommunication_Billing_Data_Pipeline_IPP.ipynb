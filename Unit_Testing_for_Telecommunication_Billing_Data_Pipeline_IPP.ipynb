{
  "nbformat": 4,
  "nbformat_minor": 0,
  "metadata": {
    "colab": {
      "provenance": [],
      "include_colab_link": true
    },
    "kernelspec": {
      "name": "python3",
      "display_name": "Python 3"
    },
    "language_info": {
      "name": "python"
    }
  },
  "cells": [
    {
      "cell_type": "markdown",
      "metadata": {
        "id": "view-in-github",
        "colab_type": "text"
      },
      "source": [
        "<a href=\"https://colab.research.google.com/github/WKhisa/Unit-Testing-for-Telecommunication-Billing-Data-Pipeline/blob/main/Unit_Testing_for_Telecommunication_Billing_Data_Pipeline_IPP.ipynb\" target=\"_parent\"><img src=\"https://colab.research.google.com/assets/colab-badge.svg\" alt=\"Open In Colab\"/></a>"
      ]
    },
    {
      "cell_type": "markdown",
      "source": [
        "Below is the starting code that includes the data pipeline functions. You should focus on writing unit tests for these functions using the unittest framework.\n",
        "\n"
      ],
      "metadata": {
        "id": "ADXy0k8Lg-jk"
      }
    },
    {
      "cell_type": "code",
      "execution_count": null,
      "metadata": {
        "id": "pFvW6RJ8g3Qd"
      },
      "outputs": [],
      "source": [
        "import pandas as pd\n",
        "import unittest\n",
        "\n",
        "def data_extraction(file_path):\n",
        "    data = pd.read_csv(file_path)\n",
        "    return data\n",
        "\n",
        "def data_transformation(data):\n",
        "    data = data.drop_duplicates()\n",
        "    data['billing_amount'] = data['billing_amount'].str.replace('$', '').astype(float)\n",
        "    data['total_charges'] = data['billing_amount'] + data['tax_amount']\n",
        "    return data\n",
        "\n",
        "def data_loading(data, output_file):\n",
        "    data.to_csv(output_file, index=False)\n",
        "\n",
        "class TestDataPipeline(unittest.TestCase):\n",
        "    def test_data_extraction(self):\n",
        "        # Write your test cases for data_extraction function here\n",
        "\n",
        "    def test_data_transformation(self):\n",
        "        # Write your test cases for data_transformation function here\n",
        "\n",
        "    def test_data_loading(self):\n",
        "        # Write your test cases for data_loading function here\n",
        "\n",
        "if __name__ == '__main__':\n",
        "    unittest.main()"
      ]
    }
  ]
}